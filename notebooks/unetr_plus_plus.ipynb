{
  "nbformat": 4,
  "nbformat_minor": 0,
  "metadata": {
    "colab": {
      "provenance": [],
      "authorship_tag": "ABX9TyNagLhT3cu3ZrmcVsSnySsk",
      "include_colab_link": true
    },
    "kernelspec": {
      "name": "python3",
      "display_name": "Python 3"
    },
    "language_info": {
      "name": "python"
    }
  },
  "cells": [
    {
      "cell_type": "markdown",
      "metadata": {
        "id": "view-in-github",
        "colab_type": "text"
      },
      "source": [
        "<a href=\"https://colab.research.google.com/github/1ucky40nc3/medicus/blob/v0.1/notebooks/unetr_plus_plus.ipynb\" target=\"_parent\"><img src=\"https://colab.research.google.com/assets/colab-badge.svg\" alt=\"Open In Colab\"/></a>"
      ]
    },
    {
      "cell_type": "markdown",
      "source": [
        "# UNETR++: Delving into Efficient and Accurate 3D Medical Image Segmentation\n",
        "\n",
        "**[Abdelrahman Shaker](https://scholar.google.com/citations?hl=en&user=eEz4Wu4AAAAJ), [Muhammad Maaz](https://scholar.google.com/citations?user=vTy9Te8AAAAJ&hl=en&authuser=1&oi=sra), [Hanoona Rasheed](https://scholar.google.com/citations?user=yhDdEuEAAAAJ&hl=en&authuser=1&oi=sra), [Salman Khan](https://salman-h-khan.github.io/), [Ming-Hsuan Yang](https://scholar.google.com/citations?user=p9-ohHsAAAAJ&hl=en) and [Fahad Shahbaz Khan](https://scholar.google.es/citations?user=zvaeYnUAAAAJ&hl=en)**\n",
        "\n",
        "- [Paper](https://arxiv.org/pdf/2212.04497v1.pdf)\n",
        "- [Code](https://github.com/Amshaker/unetr_plus_plus)\n",
        "\n",
        "\n",
        "## Citation\n",
        "```\n",
        "@article{Shaker2022UNETR++,\n",
        "      title={UNETR++: Delving into Efficient and Accurate 3D Medical Image Segmentation},\n",
        "      author={Shaker, Abdelrahman and Maaz, Muhammad and Rasheed, Hanoona and Khan, Salman and Yang, Ming-Hsuan and Khan, Fahad Shahbaz},\n",
        "      journal={arXiv:2212.04497},\n",
        "      year={2022},\n",
        "}\n",
        "```\n",
        "\n"
      ],
      "metadata": {
        "id": "6TfbFCZjA3bW"
      }
    },
    {
      "cell_type": "markdown",
      "source": [
        "## Clone the Official Repository"
      ],
      "metadata": {
        "id": "K6vyJBWrCM9R"
      }
    },
    {
      "cell_type": "code",
      "execution_count": null,
      "metadata": {
        "id": "JhQkwf_T8qEj"
      },
      "outputs": [],
      "source": [
        "!git clone https://github.com/Amshaker/unetr_plus_plus.git\n",
        "%cd unetr_plus_plus"
      ]
    },
    {
      "cell_type": "markdown",
      "source": [
        "## Install some Requirements"
      ],
      "metadata": {
        "id": "dvJpKG1jCQoi"
      }
    },
    {
      "cell_type": "code",
      "source": [
        "!pip install -r requirements.txt"
      ],
      "metadata": {
        "id": "idFqA6_J82Z0"
      },
      "execution_count": null,
      "outputs": []
    },
    {
      "cell_type": "markdown",
      "source": [
        "## Setup Preprocessed Datasets\n",
        "\n",
        "In this notebook we use preprocessed data. This data was provided by the authors via this [Google Drive link](https://drive.google.com/file/d/1a1E33LmshhtHob6qxyyT7R_r-Ojm9-gU/view?usp=share_link). You just will need to link it to your personal Google Drive."
      ],
      "metadata": {
        "id": "tUYIlD6nCUhE"
      }
    },
    {
      "cell_type": "code",
      "source": [
        "from google.colab import drive\n",
        "drive.mount('/content/gdrive')"
      ],
      "metadata": {
        "id": "MR0KzIQv-wM1"
      },
      "execution_count": null,
      "outputs": []
    },
    {
      "cell_type": "code",
      "source": [
        "import os\n",
        "\n",
        "\n",
        "# @markdown Set the path of the directory of preprocessed data in your Google Drive here:\n",
        "drive_directory = 'datasets' # @param {\"type\": \"string\"}\n",
        "path = os.path.join(\n",
        "    '/content/gdrive/MyDrive/',\n",
        "    drive_directory,\n",
        "    'DATASET_UNETR_PP.zip'\n",
        ")\n",
        "!cp $path .\n",
        "!unzip DATASET_UNETR_PP.zip"
      ],
      "metadata": {
        "id": "jHd0WrgZ85GB"
      },
      "execution_count": null,
      "outputs": []
    },
    {
      "cell_type": "markdown",
      "source": [
        "## Train!"
      ],
      "metadata": {
        "id": "c2aTQgiMDqWu"
      }
    },
    {
      "cell_type": "markdown",
      "source": [
        "### Train on the Synapse Dataset"
      ],
      "metadata": {
        "id": "xxa4yaFLDsUY"
      }
    },
    {
      "cell_type": "code",
      "source": [
        "!bash run_training_synapse.sh"
      ],
      "metadata": {
        "id": "jqw0td0X9Jdd"
      },
      "execution_count": null,
      "outputs": []
    },
    {
      "cell_type": "markdown",
      "source": [
        "### Evaluate on the Synapse Dataset"
      ],
      "metadata": {
        "id": "GFmYL8iRDwJb"
      }
    },
    {
      "cell_type": "code",
      "source": [
        "!bash run_evaluation_synapse.sh"
      ],
      "metadata": {
        "id": "sotziboR9O7P"
      },
      "execution_count": null,
      "outputs": []
    },
    {
      "cell_type": "markdown",
      "source": [
        "### Train on the ACDC Dataset"
      ],
      "metadata": {
        "id": "QkfKjcKmD1hT"
      }
    },
    {
      "cell_type": "code",
      "source": [
        "!bash run_training_acdc.sh"
      ],
      "metadata": {
        "id": "WnQlhrVlD4pA"
      },
      "execution_count": null,
      "outputs": []
    },
    {
      "cell_type": "markdown",
      "source": [
        "### Evaluate on the ACDC Dataset"
      ],
      "metadata": {
        "id": "wyiVF_6YELhp"
      }
    },
    {
      "cell_type": "code",
      "source": [
        "!bash run_evaluation_acdc.sh"
      ],
      "metadata": {
        "id": "XfAcZBBIEOiK"
      },
      "execution_count": null,
      "outputs": []
    }
  ]
}