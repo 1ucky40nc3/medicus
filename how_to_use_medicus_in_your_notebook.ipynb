{
  "nbformat": 4,
  "nbformat_minor": 0,
  "metadata": {
    "colab": {
      "provenance": [],
      "collapsed_sections": [],
      "include_colab_link": true
    },
    "kernelspec": {
      "name": "python3",
      "display_name": "Python 3"
    },
    "language_info": {
      "name": "python"
    },
    "accelerator": "GPU"
  },
  "cells": [
    {
      "cell_type": "markdown",
      "metadata": {
        "id": "view-in-github",
        "colab_type": "text"
      },
      "source": [
        "<a href=\"https://colab.research.google.com/github/1ucky40nc3/medicus/blob/v0.1/how_to_use_medicus_in_your_notebook.ipynb\" target=\"_parent\"><img src=\"https://colab.research.google.com/assets/colab-badge.svg\" alt=\"Open In Colab\"/></a>"
      ]
    },
    {
      "cell_type": "markdown",
      "source": [
        "# Set up the notebook"
      ],
      "metadata": {
        "id": "RfDAn2NZgBe3"
      }
    },
    {
      "cell_type": "code",
      "execution_count": null,
      "metadata": {
        "id": "muihiE4CHihq"
      },
      "outputs": [],
      "source": [
        "!git clone  https://github.com/1ucky40nc3/medicus.git\n",
        "%cd medicus"
      ]
    },
    {
      "cell_type": "code",
      "source": [
        "!git checkout v0.1"
      ],
      "metadata": {
        "id": "fpd7fyM46og4"
      },
      "execution_count": null,
      "outputs": []
    },
    {
      "cell_type": "code",
      "source": [
        "!pip install -e ."
      ],
      "metadata": {
        "id": "hE_vtgPT60K5"
      },
      "execution_count": null,
      "outputs": []
    },
    {
      "cell_type": "code",
      "source": [
        "!pip install torchmetrics\n",
        "!pip install colour\n",
        "!pip install wandb"
      ],
      "metadata": {
        "id": "S60kodFwKlsc"
      },
      "execution_count": null,
      "outputs": []
    },
    {
      "cell_type": "markdown",
      "source": [
        "# Download the data"
      ],
      "metadata": {
        "id": "6nClnqARvEWc"
      }
    },
    {
      "cell_type": "code",
      "source": [
        "from pydrive.auth import GoogleAuth\n",
        "from pydrive.drive import GoogleDrive\n",
        "from google.colab import auth\n",
        "from oauth2client.client import GoogleCredentials\n",
        "\n",
        "# Authenticate and create the PyDrive client.\n",
        "# This only needs to be done once per notebook.\n",
        "auth.authenticate_user()\n",
        "gauth = GoogleAuth()\n",
        "gauth.credentials = GoogleCredentials.get_application_default()\n",
        "drive = GoogleDrive(gauth)"
      ],
      "metadata": {
        "id": "Wjs1cHSQwYBL"
      },
      "execution_count": null,
      "outputs": []
    },
    {
      "cell_type": "code",
      "source": [
        "dataset_name = \"shapes\"\n",
        "dataset_dir = f\"/content/medicus/datasets/{dataset_name}\"\n",
        "dataset_file = f\"{dataset_dir}/{dataset_name}.zip\"\n",
        "gdrive_file_id = '1TfmxAfdOL4UouMQMELCzJkTrHr4hclmQ'"
      ],
      "metadata": {
        "id": "8mmpKXF_waTj"
      },
      "execution_count": null,
      "outputs": []
    },
    {
      "cell_type": "code",
      "source": [
        "!mkdir -p $dataset_dir\n",
        "\n",
        "downloaded = drive.CreateFile({'id': gdrive_file_id})\n",
        "downloaded.GetContentFile(dataset_file)\n",
        "\n",
        "!unzip $dataset_file -d $dataset_dir"
      ],
      "metadata": {
        "id": "YGO_WePvLgyj"
      },
      "execution_count": null,
      "outputs": []
    },
    {
      "cell_type": "markdown",
      "source": [
        "# Train!"
      ],
      "metadata": {
        "id": "hN2LIWw_f-f3"
      }
    },
    {
      "cell_type": "code",
      "source": [
        "!git reset --hard\n",
        "!git pull"
      ],
      "metadata": {
        "id": "Qho_fsE4T5D4"
      },
      "execution_count": null,
      "outputs": []
    },
    {
      "cell_type": "code",
      "source": [
        "%reload_ext tensorboard\n",
        "%tensorboard --logdir runs\n",
        "\n",
        "!python train.py \\\n",
        "    --dataset_name \"shapes\" \\\n",
        "    --dataset_dir \"datasets/shapes\""
      ],
      "metadata": {
        "id": "o43rUl_16u79"
      },
      "execution_count": null,
      "outputs": []
    },
    {
      "cell_type": "code",
      "source": [
        "#@title 👏🏁 📣🎶✨\n",
        "from google.colab import output\n",
        "output.eval_js('new Audio(\"https://assets.mixkit.co/sfx/download/mixkit-achievement-bell-600.wav\").play()')"
      ],
      "metadata": {
        "cellView": "form",
        "id": "thWjgQWKbVxZ"
      },
      "execution_count": null,
      "outputs": []
    }
  ]
}